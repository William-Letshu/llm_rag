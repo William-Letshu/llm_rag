{
 "cells": [
  {
   "cell_type": "markdown",
   "id": "4da4d5ac",
   "metadata": {},
   "source": [
    "## Agents and Tools"
   ]
  },
  {
   "cell_type": "markdown",
   "id": "4323f74b",
   "metadata": {},
   "source": [
    "### In the following example, we will use the Math tool to perform some simple math operations"
   ]
  },
  {
   "cell_type": "code",
   "execution_count": 3,
   "id": "a3f6355f",
   "metadata": {},
   "outputs": [],
   "source": [
    "from dotenv import load_dotenv\n",
    "from langchain_openai import OpenAI\n",
    "from langchain_google_genai import ChatGoogleGenerativeAI\n",
    "import os\n",
    "\n",
    "load_dotenv()\n",
    "\n",
    "GOOGLE_API_TOKEN = os.getenv(\"GEMIMI_API_KEY\") "
   ]
  },
  {
   "cell_type": "code",
   "execution_count": 5,
   "id": "ff93acf9",
   "metadata": {},
   "outputs": [],
   "source": [
    "from langchain_google_genai import ChatGoogleGenerativeAI\n",
    "llm = ChatGoogleGenerativeAI(model=\"gemini-1.5-pro-latest\", google_api_key=GOOGLE_API_TOKEN)"
   ]
  },
  {
   "cell_type": "code",
   "execution_count": 6,
   "id": "83dabb48",
   "metadata": {},
   "outputs": [],
   "source": [
    "from langchain.chains import LLMMathChain\n",
    "from langchain.agents import Tool"
   ]
  },
  {
   "cell_type": "code",
   "execution_count": 8,
   "id": "40f27906",
   "metadata": {},
   "outputs": [],
   "source": [
    "llm_math = LLMMathChain.from_llm(llm=llm)\n",
    "\n",
    "math_tool = Tool(\n",
    "    name='Calculator',\n",
    "    func=llm_math.run,\n",
    "    description='Useful for when you need to answer questions about math.'\n",
    ")\n",
    "\n",
    "tools = [math_tool]"
   ]
  },
  {
   "cell_type": "code",
   "execution_count": 9,
   "id": "7c918e49",
   "metadata": {},
   "outputs": [
    {
     "name": "stdout",
     "output_type": "stream",
     "text": [
      "Calculator --- Useful for when you need to answer questions about math.\n"
     ]
    }
   ],
   "source": [
    "print(tools[0].name, \"---\", tools[0].description)"
   ]
  },
  {
   "cell_type": "markdown",
   "id": "e0ceb3c1",
   "metadata": {},
   "source": [
    "## Now create an Agent\n",
    "#### Zero-shot ReAct\n",
    "The Zero-shot ReAct Agent is a language generation model that can create realistic contexts even without being trained on specific data. It can be used for various tasks such as generating creative text formats, language translation, and generating different types of creative content."
   ]
  },
  {
   "cell_type": "code",
   "execution_count": 10,
   "id": "7fcec1ac",
   "metadata": {},
   "outputs": [
    {
     "name": "stderr",
     "output_type": "stream",
     "text": [
      "/Users/williamletshu/.local/share/virtualenvs/llm_rag-G4Rf0Vrf/lib/python3.9/site-packages/langchain_core/_api/deprecation.py:139: LangChainDeprecationWarning: The function `initialize_agent` was deprecated in LangChain 0.1.0 and will be removed in 0.3.0. Use Use new agent constructor methods like create_react_agent, create_json_agent, create_structured_chat_agent, etc. instead.\n",
      "  warn_deprecated(\n"
     ]
    }
   ],
   "source": [
    "from langchain.agents import initialize_agent\n",
    "\n",
    "zero_shot_agent = initialize_agent(\n",
    "    agent=\"chat-zero-shot-react-description\",\n",
    "    tools=tools,\n",
    "    llm=llm,\n",
    "    verbose=True,\n",
    "    max_iterations=10,\n",
    "    handle_parsing_errors=True\n",
    ")"
   ]
  },
  {
   "cell_type": "code",
   "execution_count": 11,
   "id": "5e0ff035",
   "metadata": {},
   "outputs": [
    {
     "name": "stderr",
     "output_type": "stream",
     "text": [
      "/Users/williamletshu/.local/share/virtualenvs/llm_rag-G4Rf0Vrf/lib/python3.9/site-packages/langchain_core/_api/deprecation.py:139: LangChainDeprecationWarning: The method `Chain.__call__` was deprecated in langchain 0.1.0 and will be removed in 0.3.0. Use invoke instead.\n",
      "  warn_deprecated(\n"
     ]
    },
    {
     "name": "stdout",
     "output_type": "stream",
     "text": [
      "\n",
      "\n",
      "\u001b[1m> Entering new AgentExecutor chain...\u001b[0m\n"
     ]
    },
    {
     "name": "stderr",
     "output_type": "stream",
     "text": [
      "Retrying langchain_google_genai.chat_models._chat_with_retry.<locals>._chat_with_retry in 2.0 seconds as it raised InternalServerError: 500 An internal error has occurred. Please retry or report in https://developers.generativeai.google/guide/troubleshooting.\n",
      "Retrying langchain_google_genai.chat_models._chat_with_retry.<locals>._chat_with_retry in 4.0 seconds as it raised InternalServerError: 500 An internal error has occurred. Please retry or report in https://developers.generativeai.google/guide/troubleshooting.\n"
     ]
    },
    {
     "name": "stdout",
     "output_type": "stream",
     "text": [
      "\u001b[32;1m\u001b[1;3mQuestion: What is root over 25?\n",
      "Thought: I need to use the calculator to find the square root of 25. \n",
      "Action:\n",
      "```json\n",
      "{\n",
      "  \"action\": \"Calculator\",\n",
      "  \"action_input\": \"sqrt(25)\"\n",
      "}\n",
      "```\n",
      "\u001b[0m"
     ]
    },
    {
     "name": "stderr",
     "output_type": "stream",
     "text": [
      "Retrying langchain_google_genai.chat_models._chat_with_retry.<locals>._chat_with_retry in 2.0 seconds as it raised InternalServerError: 500 An internal error has occurred. Please retry or report in https://developers.generativeai.google/guide/troubleshooting.\n",
      "Retrying langchain_google_genai.chat_models._chat_with_retry.<locals>._chat_with_retry in 4.0 seconds as it raised ResourceExhausted: 429 Resource has been exhausted (e.g. check quota)..\n",
      "Retrying langchain_google_genai.chat_models._chat_with_retry.<locals>._chat_with_retry in 8.0 seconds as it raised ResourceExhausted: 429 Resource has been exhausted (e.g. check quota)..\n",
      "Retrying langchain_google_genai.chat_models._chat_with_retry.<locals>._chat_with_retry in 16.0 seconds as it raised ResourceExhausted: 429 Resource has been exhausted (e.g. check quota)..\n",
      "Retrying langchain_google_genai.chat_models._chat_with_retry.<locals>._chat_with_retry in 32.0 seconds as it raised ResourceExhausted: 429 Resource has been exhausted (e.g. check quota)..\n"
     ]
    },
    {
     "name": "stdout",
     "output_type": "stream",
     "text": [
      "\n",
      "Observation: \u001b[36;1m\u001b[1;3mAnswer: 5.0\u001b[0m\n",
      "Thought:"
     ]
    },
    {
     "name": "stderr",
     "output_type": "stream",
     "text": [
      "Retrying langchain_google_genai.chat_models._chat_with_retry.<locals>._chat_with_retry in 2.0 seconds as it raised InternalServerError: 500 An internal error has occurred. Please retry or report in https://developers.generativeai.google/guide/troubleshooting.\n",
      "Retrying langchain_google_genai.chat_models._chat_with_retry.<locals>._chat_with_retry in 4.0 seconds as it raised InternalServerError: 500 An internal error has occurred. Please retry or report in https://developers.generativeai.google/guide/troubleshooting.\n"
     ]
    },
    {
     "name": "stdout",
     "output_type": "stream",
     "text": [
      "\u001b[32;1m\u001b[1;3mThought: I now know the final answer.\n",
      "Final Answer: 5.0 \n",
      "\u001b[0m\n",
      "\n",
      "\u001b[1m> Finished chain.\u001b[0m\n"
     ]
    },
    {
     "data": {
      "text/plain": [
       "{'input': 'What is root over 25?', 'output': '5.0'}"
      ]
     },
     "execution_count": 11,
     "metadata": {},
     "output_type": "execute_result"
    }
   ],
   "source": [
    "zero_shot_agent(\"What is root over 25?\")"
   ]
  },
  {
   "cell_type": "code",
   "execution_count": 12,
   "id": "249d215b",
   "metadata": {},
   "outputs": [
    {
     "name": "stdout",
     "output_type": "stream",
     "text": [
      "\n",
      "\n",
      "\u001b[1m> Entering new AgentExecutor chain...\u001b[0m\n",
      "\u001b[32;1m\u001b[1;3mCould not parse LLM output: \u001b[0m\n",
      "Observation: Invalid or incomplete response\n",
      "Thought:\u001b[32;1m\u001b[1;3mCould not parse LLM output: \u001b[0m\n",
      "Observation: Invalid or incomplete response\n",
      "Thought:\u001b[32;1m\u001b[1;3mCould not parse LLM output: \u001b[0m\n",
      "Observation: Invalid or incomplete response\n",
      "Thought:\u001b[32;1m\u001b[1;3mCould not parse LLM output: \u001b[0m\n",
      "Observation: Invalid or incomplete response\n",
      "Thought:"
     ]
    },
    {
     "name": "stderr",
     "output_type": "stream",
     "text": [
      "Retrying langchain_google_genai.chat_models._chat_with_retry.<locals>._chat_with_retry in 2.0 seconds as it raised ResourceExhausted: 429 Resource has been exhausted (e.g. check quota)..\n",
      "Retrying langchain_google_genai.chat_models._chat_with_retry.<locals>._chat_with_retry in 4.0 seconds as it raised ResourceExhausted: 429 Resource has been exhausted (e.g. check quota)..\n",
      "Retrying langchain_google_genai.chat_models._chat_with_retry.<locals>._chat_with_retry in 8.0 seconds as it raised ResourceExhausted: 429 Resource has been exhausted (e.g. check quota)..\n",
      "Retrying langchain_google_genai.chat_models._chat_with_retry.<locals>._chat_with_retry in 16.0 seconds as it raised ResourceExhausted: 429 Resource has been exhausted (e.g. check quota)..\n"
     ]
    },
    {
     "name": "stdout",
     "output_type": "stream",
     "text": [
      "\u001b[32;1m\u001b[1;3mQuestion: You are building a house. There are two bedrooms of 5 metres by 5 metres each and drawing cum open kitchen  is 7 metres by 6 metres and balcony of 3 metres by 2 metres.  What is the total area of your house? \n",
      "Thought: I need to calculate area of each room/space and add them up to get the total area.\n",
      "Thought: Area of each bedroom is 5*5 = 25 sq meters\n",
      "Thought: Total area of bedrooms is 25*2 = 50 sq meters\n",
      "Thought: Area of drawing cum open kitchen is 7*6 = 42 sq meters\n",
      "Thought: Area of balcony is 3*2 = 6 sq meters\n",
      "Thought: Total area of the house is 50+42+6 = 98 sq meters\n",
      "Final Answer: 98 sq meters \n",
      "\u001b[0m\n",
      "\n",
      "\u001b[1m> Finished chain.\u001b[0m\n"
     ]
    },
    {
     "data": {
      "text/plain": [
       "{'input': '\\n        You are building a house. There are two bedrooms of 5 metres by 5 metres each and drawing cum open kitchen \\n        is 7 metres by 6 metres and balcony of 3 metres by 2 metres. \\n        What is the total area of your house?\\n        ',\n",
       " 'output': '98 sq meters'}"
      ]
     },
     "execution_count": 12,
     "metadata": {},
     "output_type": "execute_result"
    }
   ],
   "source": [
    "problem = \"\"\"\n",
    "        You are building a house. There are two bedrooms of 5 metres by 5 metres each and drawing cum open kitchen \n",
    "        is 7 metres by 6 metres and balcony of 3 metres by 2 metres. \n",
    "        What is the total area of your house?\n",
    "        \"\"\"\n",
    "zero_shot_agent(problem)"
   ]
  },
  {
   "cell_type": "markdown",
   "id": "6e0cc231",
   "metadata": {},
   "source": [
    "## Using mutiple Tools\n",
    "In the following example, we will be using the Duck Duck Go search API as a Tool combined with the Math Tool\n",
    "We will then give the Agent a problem that initiates a search first followed by a Calculation."
   ]
  },
  {
   "cell_type": "code",
   "execution_count": 14,
   "id": "4fc1448a",
   "metadata": {},
   "outputs": [
    {
     "name": "stderr",
     "output_type": "stream",
     "text": [
      "/Users/williamletshu/.local/share/virtualenvs/llm_rag-G4Rf0Vrf/lib/python3.9/site-packages/langchain/chains/llm_math/base.py:58: UserWarning: Directly instantiating an LLMMathChain with an llm is deprecated. Please instantiate with llm_chain argument or using the from_llm class method.\n",
      "  warnings.warn(\n"
     ]
    }
   ],
   "source": [
    "# Define the Tools\n",
    "\n",
    "from langchain.tools import DuckDuckGoSearchRun\n",
    "\n",
    "search = DuckDuckGoSearchRun()\n",
    "\n",
    "search_tool = Tool.from_function(\n",
    "    func=search.run,\n",
    "    name=\"Search\",\n",
    "    description=\"useful for when you need to search the internet for information\"\n",
    ")\n",
    "\n",
    "llm_math_chain = LLMMathChain(llm=llm, verbose=True)\n",
    "\n",
    "math_tool = Tool.from_function(\n",
    "    func=llm_math_chain.run,\n",
    "    name=\"Calculator\",\n",
    "    description=\"Useful for when you are asked to perform math calculations\"\n",
    ")"
   ]
  },
  {
   "cell_type": "code",
   "execution_count": 16,
   "id": "272a83e6",
   "metadata": {},
   "outputs": [],
   "source": [
    "# Define the Agent\n",
    "\n",
    "tools = [search_tool, math_tool]\n",
    "\n",
    "agent = initialize_agent(\n",
    "    tools,\n",
    "    llm,\n",
    "    agent=\"zero-shot-react-description\",\n",
    "    verbose=True\n",
    ")"
   ]
  },
  {
   "cell_type": "code",
   "execution_count": 49,
   "id": "0f3387c9",
   "metadata": {},
   "outputs": [
    {
     "name": "stdout",
     "output_type": "stream",
     "text": [
      "\n",
      "\n",
      "\u001b[1m> Entering new AgentExecutor chain...\u001b[0m\n",
      "\u001b[32;1m\u001b[1;3mThought: I need to search for Microsoft's stock price on Google Finance and convert it to INR. \n",
      "Action: Search\n",
      "Action Input: {'query': 'Microsoft stock price Google Finance'} \u001b[0m\n",
      "Observation: \u001b[36;1m\u001b[1;3mStep 2 - Publishing the Google Finance Stock Prices Data. Go to File, select Share and choose Publish to web. A dialog box will appear. Click on the Publish button. Press Ctrl + C to copy the link. Step 3 - Importing Stock Prices into Excel. Open an Excel file, go to the Data tab, and select From Web. A dialog box will appear. The GOOGLEFINANCE function is an amazing tool used to make Google Sheets stock formulas for people who need to work with real-time finance data. This single function gives you not only the current prices of stocks and conversion rates of currencies, but also historical data of these securities over days, weeks, months or years. For example, you want to import the stock price or value of Facebook Inc. traded on NASDAQ. The ticker symbol for Facebook is \"FB\"; for NASDAQ, it will read \"NASDAQ:FB\". Type \"NASDAQ:FB\" in the formula along with \"price\" as the attribute. Here is how your GOOGLE FINANCE formula should look: =GOOGLEFINANCE(\"NASDAQ: FB\",\"price\") Select a cell on your Google Sheet. Type \"=GOOGLEFINANCE (\" (don't forget the equal sign) Then, type the ticker of the stock you want the price of in quotes. For example, if you want to get the ... Select the desired cell. Type \" =googlefinance \". Choose the first option from the popup or press the \" Tab \" key. Replace the \"ticker\" argument with the \" TSLA \" and make sure to use the double quotation marks. (Note that the TSLA is the ticker symbol for Tesla Inc.) Press \", \" to move to the next argument.\u001b[0m\n",
      "Thought:\u001b[32;1m\u001b[1;3mThought: The search result is not giving me the price directly. It's showing how to get it using Google Sheets. I can rephrase my search to directly get the price.\n",
      "Action: Search\n",
      "Action Input: {'query': 'Microsoft stock price'}\u001b[0m\n",
      "Observation: \u001b[36;1m\u001b[1;3mDiscover real-time Microsoft Corporation Common Stock (MSFT) stock prices, quotes, historical data, news, and Insights for informed trading and investment decisions. Stay ahead with Nasdaq. Get a real-time Microsoft Corporation (MSFT) stock price quote with breaking news, financials, statistics, charts and more. Get a real-time Microsoft Corporation (MSFT) stock price quote with breaking news, financials, statistics, charts and more. ... The 12-month stock price forecast is $475.85, which is an increase of 9.98% from the latest ... View Microsoft Corporation MSFT stock quote prices, financial information, real-time forecasts, and company news from CNN. A high-level overview of Microsoft Corporation (MSFT) stock. Stay up to date on the latest stock price, chart, news, analysis, fundamentals, trading and investment tools. 35 brokers have issued 1-year target prices for Microsoft's stock. Their MSFT share price targets range from $232.00 to $600.00. On average, they expect the company's share price to reach $463.69 in the next twelve months. This suggests a possible upside of 6.3% from the stock's current price.\u001b[0m\n",
      "Thought:\u001b[32;1m\u001b[1;3mThought: I've got multiple sources mentioning Microsoft's stock price but not a specific value. I need to refine my search further to get the real-time price.\n",
      "Action: Search\n",
      "Action Input: {'query': 'Microsoft stock price nasdaq'}\u001b[0m\n",
      "Observation: \u001b[36;1m\u001b[1;3mDiscover real-time Microsoft Corporation Common Stock (MSFT) stock prices, quotes, historical data, news, and Insights for informed trading and investment decisions. Stay ahead with Nasdaq. Microsoft Corporation ( NASDAQ:MSFT) received a lot of attention from a substantial price movement on the NASDAQGS over the last few months, increasing to US$431 at one point, and dropping to the ... Get the latest updates on Microsoft Corporation Common Stock (MSFT) pre market trades, share volumes, and more. Make informed investments with Nasdaq. We recently published a list of top 10 AI stocks Wall Street analysts are upgrading. Microsoft ranks higher in the list and deserves a deeper look. There has been much uproar about AI stock ... Get a real-time Microsoft Corporation (MSFT) stock price quote with breaking news, financials, statistics, charts and more.\u001b[0m\n",
      "Thought:\u001b[32;1m\u001b[1;3mThought: I am getting closer.  The search results now mention Nasdaq which is where the stock is traded. I should try to go directly to the Nasdaq website.\n",
      "Action: Search\n",
      "Action Input: {'query': 'https://www.nasdaq.com/market-activity/stocks/msft'}\u001b[0m\n",
      "Observation: \u001b[36;1m\u001b[1;3mDiscover real-time Microsoft Corporation Common Stock (MSFT) stock prices, quotes, historical data, news, and Insights for informed trading and investment decisions. Stay ahead with Nasdaq. About Pre-Market Quotes. Nasdaq provides market information before market opens daily from 4:15 A.M. ET to 7:30 A.M. ET on the following day. Get the latest updates on Microsoft Corporation Common ... Find annual and quearterly earnings data for Microsoft Corporation Common Stock (MSFT) including earnings per share, earnings forecasts at Nasdaq.com. Get a real-time Microsoft Corporation (MSFT) stock price quote with breaking news, financials, statistics, charts and more. ... NASDAQ: MSFT · IEX Real-Time Price · USD. Add to Watchlist 432.68 +4.81 (1.12%) ... These 3 Stocks Rule the Market—and There's No Sign of Broadening Yet. Driven by unquenchable growth from mega-cap tech companies like Microsoft and Tesla, Nvidia has grown into one of the largest companies in the world by market cap and has seen its stock soar more ...\u001b[0m\n",
      "Thought:\u001b[32;1m\u001b[1;3mThought: I found the Nasdaq website for Microsoft stock, and it shows the price in USD. Now I need to convert it to INR.\n",
      "Action: Search\n",
      "Action Input: {'query': 'USD to INR'}\u001b[0m\n",
      "Observation: \u001b[36;1m\u001b[1;3mHome > Currency Calculator. 1.00 USD = 83.527455 INR. Jun 10, 2024 20:01 UTC. View USD Rates Table. View INR Rates Table. View USD / INR Graphs. 1. Configure Converter. . Get the latest 5,850 US Dollar to Indian Rupee rate for FREE with the original Universal Currency Converter. Set rate alerts for USD to INR and learn more about US Dollars and Indian Rupees from XE - the Currency Authority. 81.6712 - 83.5750. Current exchange rate US DOLLAR (USD) to INDIAN RUPEE (INR) including currency converter, buying & selling rate and historical conversion chart. Quick Conversions from United States Dollar to Indian Rupee : 1 USD = 83.598943 INR. Currency converter to convert from United States Dollar (USD) to Indian Rupee (INR) including the latest exchange rates, a chart showing the exchange rate history for the last 120-days and information about the currencies. Switch. To. Result. = 0 INR. 1 United States dollar = 0 Indian rupee, 1 Indian rupee = 0 United States dollar.\u001b[0m\n",
      "Thought:\u001b[32;1m\u001b[1;3mThought: I found the USD to INR conversion rate. Now I need to calculate the INR value of Microsoft's stock price.\n",
      "Action: Calculator\n",
      "Action Input: 432.68 * 83.527455\u001b[0m\n",
      "\n",
      "\u001b[1m> Entering new LLMMathChain chain...\u001b[0m\n",
      "432.68 * 83.527455\u001b[32;1m\u001b[1;3m```text\n",
      "432.68 * 83.527455\n",
      "```\n",
      "...numexpr.evaluate(\"432.68 * 83.527455\")...\n",
      "\u001b[0m\n",
      "Answer: \u001b[33;1m\u001b[1;3m36140.6592294\u001b[0m\n",
      "\u001b[1m> Finished chain.\u001b[0m\n",
      "\n",
      "Observation: \u001b[33;1m\u001b[1;3mAnswer: 36140.6592294\u001b[0m\n",
      "Thought:\u001b[32;1m\u001b[1;3mThought: I have the USD price and the conversion rate. I can calculate the price in INR now.\n",
      "Final Answer: The price of Microsoft stock is approximately USD 432.68 and INR 36140.66. \n",
      "\u001b[0m\n",
      "\n",
      "\u001b[1m> Finished chain.\u001b[0m\n"
     ]
    },
    {
     "data": {
      "text/plain": [
       "'The price of Microsoft stock is approximately USD 432.68 and INR 36140.66.'"
      ]
     },
     "execution_count": 49,
     "metadata": {},
     "output_type": "execute_result"
    }
   ],
   "source": [
    "# Run the Agent with the problem\n",
    "\n",
    "agent.run(\"\"\"Get Microsoft Stock Price taken from Google Finance and display in both USD and INR values\"\"\")"
   ]
  },
  {
   "cell_type": "markdown",
   "id": "3f7a5e46",
   "metadata": {},
   "source": [
    "## Create a custom tool"
   ]
  },
  {
   "cell_type": "code",
   "execution_count": 20,
   "id": "1d3dbf54",
   "metadata": {},
   "outputs": [],
   "source": [
    "from langchain.tools import BaseTool\n",
    "from langchain_core.output_parsers import JsonOutputParser\n",
    "from langchain.tools import tool\n",
    "\n",
    "@tool(\"JSON_Response\", return_direct=True)\n",
    "def StructuredResponseTool(question: str):\n",
    "    \"\"\"\n",
    "    use this tool to send a prompt and get a JSON returned \n",
    "    with three fields - Topic, Question_Details and Detailed_Response\n",
    "    \"\"\"\n",
    "    json_prompt = PromptTemplate.from_template(\n",
    "    \"\"\"Return a JSON object with an `answer` key that answers the following question: {question}. \n",
    "        The JSON object will have three fields - Topic, Question_Details and Detailed_Response\"\"\"\n",
    "    )\n",
    "\n",
    "    # model = OpenAI(model_name=\"gpt-3.5-turbo-instruct\", temperature=0.5)\n",
    "\n",
    "    json_parser = JsonOutputParser()\n",
    "    json_chain = json_prompt | llm | json_parser\n",
    "    x = json_chain.invoke({\"question\": question})\n",
    "    return x"
   ]
  },
  {
   "cell_type": "code",
   "execution_count": 21,
   "id": "b1ca4373",
   "metadata": {},
   "outputs": [],
   "source": [
    "from langchain.prompts import PromptTemplate\n",
    "from langchain.chains.conversation.memory import ConversationBufferWindowMemory"
   ]
  },
  {
   "cell_type": "code",
   "execution_count": 22,
   "id": "965a3838",
   "metadata": {},
   "outputs": [],
   "source": [
    "from langchain.agents import initialize_agent\n",
    "\n",
    "tools = [StructuredResponseTool]\n",
    "\n",
    "# initialize agent with tools\n",
    "zero_shot_agent = initialize_agent(\n",
    "    agent=\"zero-shot-react-description\",\n",
    "    tools=tools,\n",
    "    llm=llm,\n",
    "    verbose=True,\n",
    "    max_iterations=10\n",
    ")"
   ]
  },
  {
   "cell_type": "code",
   "execution_count": 23,
   "id": "ebe8b063",
   "metadata": {},
   "outputs": [
    {
     "name": "stdout",
     "output_type": "stream",
     "text": [
      "\n",
      "\n",
      "\u001b[1m> Entering new AgentExecutor chain...\u001b[0m\n",
      "\u001b[32;1m\u001b[1;3mThought: I need to get the information about the top football team from the JSON_Response tool. \n",
      "Action: JSON_Response\n",
      "Action Input: {\"question\": \"Which is the top football team in the world and how?\"} \u001b[0m\n",
      "Observation: \u001b[36;1m\u001b[1;3m{'Topic': 'Football', 'Question_Details': 'Which is the top football team in the world and how?', 'Detailed_Response': {'answer': 'It\\'s impossible to definitively say which football team is the best in the world. Rankings and opinions vary depending on criteria like recent performance, tournament wins, individual player rankings, and more.  Major organizations like FIFA and UEFA rank national teams, while club teams have their own rankings. To get a better idea, you could look at: \\n\\n* **FIFA World Rankings:** For national teams\\n* **UEFA Men\\'s Club Coefficient Rankings:** For European club teams\\n* **Current form and recent tournament winners:**  Consider who\\'s on a winning streak or recently won major championships.\\n\\nUltimately, the \"best\" is subjective and open to debate!'}}\u001b[0m\n",
      "\u001b[32;1m\u001b[1;3m\u001b[0m\n",
      "\n",
      "\u001b[1m> Finished chain.\u001b[0m\n"
     ]
    },
    {
     "data": {
      "text/plain": [
       "{'Topic': 'Football',\n",
       " 'Question_Details': 'Which is the top football team in the world and how?',\n",
       " 'Detailed_Response': {'answer': 'It\\'s impossible to definitively say which football team is the best in the world. Rankings and opinions vary depending on criteria like recent performance, tournament wins, individual player rankings, and more.  Major organizations like FIFA and UEFA rank national teams, while club teams have their own rankings. To get a better idea, you could look at: \\n\\n* **FIFA World Rankings:** For national teams\\n* **UEFA Men\\'s Club Coefficient Rankings:** For European club teams\\n* **Current form and recent tournament winners:**  Consider who\\'s on a winning streak or recently won major championships.\\n\\nUltimately, the \"best\" is subjective and open to debate!'}}"
      ]
     },
     "execution_count": 23,
     "metadata": {},
     "output_type": "execute_result"
    }
   ],
   "source": [
    "zero_shot_agent.run(input=\"Which is the top football team in the world and how, the response should have three fields in the JSON - topic of the question, the question and the detailed response\")"
   ]
  }
 ],
 "metadata": {
  "kernelspec": {
   "display_name": "Python 3 (ipykernel)",
   "language": "python",
   "name": "python3"
  },
  "language_info": {
   "codemirror_mode": {
    "name": "ipython",
    "version": 3
   },
   "file_extension": ".py",
   "mimetype": "text/x-python",
   "name": "python",
   "nbconvert_exporter": "python",
   "pygments_lexer": "ipython3",
   "version": "3.9.5"
  }
 },
 "nbformat": 4,
 "nbformat_minor": 5
}
